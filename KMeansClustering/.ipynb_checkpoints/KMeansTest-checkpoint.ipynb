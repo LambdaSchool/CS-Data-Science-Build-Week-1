{
 "cells": [
  {
   "cell_type": "markdown",
   "metadata": {},
   "source": [
    "# Homemade K-Means Clustering Algorithm in Python"
   ]
  },
  {
   "cell_type": "code",
   "execution_count": 1,
   "metadata": {},
   "outputs": [],
   "source": [
    "import sys\n",
    "import pandas as pd\n",
    "import random\n",
    "import numpy as np\n",
    "import matplotlib\n",
    "import matplotlib.pyplot as plt\n",
    "import scipy\n",
    "from scipy.spatial.distance import cdist, euclidean\n",
    "from KMeans import KMeans\n",
    "import sklearn\n",
    "from sklearn.cluster import KMeans as SKKMeans"
   ]
  },
  {
   "cell_type": "markdown",
   "metadata": {},
   "source": [
    "## Versions"
   ]
  },
  {
   "cell_type": "code",
   "execution_count": 2,
   "metadata": {},
   "outputs": [
    {
     "name": "stdout",
     "output_type": "stream",
     "text": [
      "Python version\n",
      "3.7.4 (default, Aug 13 2019, 15:17:50) \n",
      "[Clang 4.0.1 (tags/RELEASE_401/final)]\n",
      "\n",
      "Pandas version:        0.25.1\n",
      "NumPy version:         1.17.2\n",
      "MatPlotLib version:    3.1.1\n",
      "SciPy version:         1.3.1\n",
      "Sci-Kit Learn version: 0.22.2.post1\n"
     ]
    }
   ],
   "source": [
    "print(f\"Python version\\n{sys.version}\\n\")\n",
    "print(\"Pandas version:       \", pd.__version__)\n",
    "print(\"NumPy version:        \", np.__version__)\n",
    "print(\"MatPlotLib version:   \", matplotlib.__version__)\n",
    "print(\"SciPy version:        \", scipy.__version__)\n",
    "print(\"Sci-Kit Learn version:\", sklearn.__version__)"
   ]
  },
  {
   "cell_type": "markdown",
   "metadata": {},
   "source": [
    "## Demonstration\n",
    "\n",
    "### Randomizing Data"
   ]
  },
  {
   "cell_type": "code",
   "execution_count": 3,
   "metadata": {},
   "outputs": [
    {
     "data": {
      "text/plain": [
       "array([[ 4,  0],\n",
       "       [ 7,  0],\n",
       "       [ 8, 10],\n",
       "       [ 5,  3],\n",
       "       [ 7,  7],\n",
       "       [ 8,  5],\n",
       "       [ 9,  2],\n",
       "       [ 8,  4],\n",
       "       [ 8,  7],\n",
       "       [ 6,  5],\n",
       "       [ 9,  3],\n",
       "       [ 2, 10],\n",
       "       [ 7,  0],\n",
       "       [ 8,  0],\n",
       "       [ 2,  0],\n",
       "       [ 7,  8],\n",
       "       [10,  4],\n",
       "       [ 8,  1],\n",
       "       [ 0,  3],\n",
       "       [ 3,  6],\n",
       "       [ 2,  4],\n",
       "       [ 1,  4],\n",
       "       [ 1,  1],\n",
       "       [ 8,  1],\n",
       "       [ 7,  8]])"
      ]
     },
     "execution_count": 3,
     "metadata": {},
     "output_type": "execute_result"
    }
   ],
   "source": [
    "random.seed(84)\n",
    "data = np.array([\n",
    "        [random.randint(0, 10), random.randint(0, 10)],\n",
    "        [random.randint(0, 10), random.randint(0, 10)],\n",
    "        [random.randint(0, 10), random.randint(0, 10)],\n",
    "        [random.randint(0, 10), random.randint(0, 10)],\n",
    "        [random.randint(0, 10), random.randint(0, 10)],\n",
    "        [random.randint(0, 10), random.randint(0, 10)],\n",
    "        [random.randint(0, 10), random.randint(0, 10)],\n",
    "        [random.randint(0, 10), random.randint(0, 10)],\n",
    "        [random.randint(0, 10), random.randint(0, 10)],\n",
    "        [random.randint(0, 10), random.randint(0, 10)],\n",
    "        [random.randint(0, 10), random.randint(0, 10)],\n",
    "        [random.randint(0, 10), random.randint(0, 10)],\n",
    "        [random.randint(0, 10), random.randint(0, 10)],\n",
    "        [random.randint(0, 10), random.randint(0, 10)],\n",
    "        [random.randint(0, 10), random.randint(0, 10)],\n",
    "        [random.randint(0, 10), random.randint(0, 10)],\n",
    "        [random.randint(0, 10), random.randint(0, 10)],\n",
    "        [random.randint(0, 10), random.randint(0, 10)],\n",
    "        [random.randint(0, 10), random.randint(0, 10)],\n",
    "        [random.randint(0, 10), random.randint(0, 10)],\n",
    "        [random.randint(0, 10), random.randint(0, 10)],\n",
    "        [random.randint(0, 10), random.randint(0, 10)],\n",
    "        [random.randint(0, 10), random.randint(0, 10)],\n",
    "        [random.randint(0, 10), random.randint(0, 10)],\n",
    "        [random.randint(0, 10), random.randint(0, 10)],\n",
    "])\n",
    "\n",
    "data"
   ]
  },
  {
   "cell_type": "code",
   "execution_count": 4,
   "metadata": {},
   "outputs": [
    {
     "data": {
      "text/plain": [
       "[4, 7, 8, 5, 7, 8, 9, 8, 8, 6, 9, 2, 7, 8, 2, 7, 10, 8, 0, 3, 2, 1, 1, 8, 7]"
      ]
     },
     "execution_count": 4,
     "metadata": {},
     "output_type": "execute_result"
    }
   ],
   "source": [
    "x = []\n",
    "y = []\n",
    "for i, j in data:\n",
    "    x.append(i)\n",
    "    y.append(j)\n",
    "    \n",
    "x"
   ]
  },
  {
   "cell_type": "code",
   "execution_count": 5,
   "metadata": {},
   "outputs": [
    {
     "data": {
      "text/plain": [
       "[0, 0, 10, 3, 7, 5, 2, 4, 7, 5, 3, 10, 0, 0, 0, 8, 4, 1, 3, 6, 4, 4, 1, 1, 8]"
      ]
     },
     "execution_count": 5,
     "metadata": {},
     "output_type": "execute_result"
    }
   ],
   "source": [
    "y"
   ]
  },
  {
   "cell_type": "code",
   "execution_count": 6,
   "metadata": {},
   "outputs": [
    {
     "data": {
      "image/png": "[encoded data removed]",
      "text/plain": [
       "<Figure size 432x288 with 1 Axes>"
      ]
     },
     "metadata": {
      "needs_background": "light"
     },
     "output_type": "display_data"
    }
   ],
   "source": [
    "plt.scatter(x, y)\n",
    "plt.show()"
   ]
  },
  {
   "cell_type": "code",
   "execution_count": 7,
   "metadata": {},
   "outputs": [
    {
     "name": "stdout",
     "output_type": "stream",
     "text": [
      "(25, 2)\n"
     ]
    },
    {
     "data": {
      "text/html": [
       "<div>\n",
       "<style scoped>\n",
       "    .dataframe tbody tr th:only-of-type {\n",
       "        vertical-align: middle;\n",
       "    }\n",
       "\n",
       "    .dataframe tbody tr th {\n",
       "        vertical-align: top;\n",
       "    }\n",
       "\n",
       "    .dataframe thead th {\n",
       "        text-align: right;\n",
       "    }\n",
       "</style>\n",
       "<table border=\"1\" class=\"dataframe\">\n",
       "  <thead>\n",
       "    <tr style=\"text-align: right;\">\n",
       "      <th></th>\n",
       "      <th>x</th>\n",
       "      <th>y</th>\n",
       "    </tr>\n",
       "  </thead>\n",
       "  <tbody>\n",
       "    <tr>\n",
       "      <td>0</td>\n",
       "      <td>4</td>\n",
       "      <td>0</td>\n",
       "    </tr>\n",
       "    <tr>\n",
       "      <td>1</td>\n",
       "      <td>7</td>\n",
       "      <td>0</td>\n",
       "    </tr>\n",
       "    <tr>\n",
       "      <td>2</td>\n",
       "      <td>8</td>\n",
       "      <td>10</td>\n",
       "    </tr>\n",
       "    <tr>\n",
       "      <td>3</td>\n",
       "      <td>5</td>\n",
       "      <td>3</td>\n",
       "    </tr>\n",
       "    <tr>\n",
       "      <td>4</td>\n",
       "      <td>7</td>\n",
       "      <td>7</td>\n",
       "    </tr>\n",
       "    <tr>\n",
       "      <td>5</td>\n",
       "      <td>8</td>\n",
       "      <td>5</td>\n",
       "    </tr>\n",
       "    <tr>\n",
       "      <td>6</td>\n",
       "      <td>9</td>\n",
       "      <td>2</td>\n",
       "    </tr>\n",
       "    <tr>\n",
       "      <td>7</td>\n",
       "      <td>8</td>\n",
       "      <td>4</td>\n",
       "    </tr>\n",
       "    <tr>\n",
       "      <td>8</td>\n",
       "      <td>8</td>\n",
       "      <td>7</td>\n",
       "    </tr>\n",
       "    <tr>\n",
       "      <td>9</td>\n",
       "      <td>6</td>\n",
       "      <td>5</td>\n",
       "    </tr>\n",
       "    <tr>\n",
       "      <td>10</td>\n",
       "      <td>9</td>\n",
       "      <td>3</td>\n",
       "    </tr>\n",
       "    <tr>\n",
       "      <td>11</td>\n",
       "      <td>2</td>\n",
       "      <td>10</td>\n",
       "    </tr>\n",
       "    <tr>\n",
       "      <td>12</td>\n",
       "      <td>7</td>\n",
       "      <td>0</td>\n",
       "    </tr>\n",
       "    <tr>\n",
       "      <td>13</td>\n",
       "      <td>8</td>\n",
       "      <td>0</td>\n",
       "    </tr>\n",
       "    <tr>\n",
       "      <td>14</td>\n",
       "      <td>2</td>\n",
       "      <td>0</td>\n",
       "    </tr>\n",
       "    <tr>\n",
       "      <td>15</td>\n",
       "      <td>7</td>\n",
       "      <td>8</td>\n",
       "    </tr>\n",
       "    <tr>\n",
       "      <td>16</td>\n",
       "      <td>10</td>\n",
       "      <td>4</td>\n",
       "    </tr>\n",
       "    <tr>\n",
       "      <td>17</td>\n",
       "      <td>8</td>\n",
       "      <td>1</td>\n",
       "    </tr>\n",
       "    <tr>\n",
       "      <td>18</td>\n",
       "      <td>0</td>\n",
       "      <td>3</td>\n",
       "    </tr>\n",
       "    <tr>\n",
       "      <td>19</td>\n",
       "      <td>3</td>\n",
       "      <td>6</td>\n",
       "    </tr>\n",
       "    <tr>\n",
       "      <td>20</td>\n",
       "      <td>2</td>\n",
       "      <td>4</td>\n",
       "    </tr>\n",
       "    <tr>\n",
       "      <td>21</td>\n",
       "      <td>1</td>\n",
       "      <td>4</td>\n",
       "    </tr>\n",
       "    <tr>\n",
       "      <td>22</td>\n",
       "      <td>1</td>\n",
       "      <td>1</td>\n",
       "    </tr>\n",
       "    <tr>\n",
       "      <td>23</td>\n",
       "      <td>8</td>\n",
       "      <td>1</td>\n",
       "    </tr>\n",
       "    <tr>\n",
       "      <td>24</td>\n",
       "      <td>7</td>\n",
       "      <td>8</td>\n",
       "    </tr>\n",
       "  </tbody>\n",
       "</table>\n",
       "</div>"
      ],
      "text/plain": [
       "     x   y\n",
       "0    4   0\n",
       "1    7   0\n",
       "2    8  10\n",
       "3    5   3\n",
       "4    7   7\n",
       "5    8   5\n",
       "6    9   2\n",
       "7    8   4\n",
       "8    8   7\n",
       "9    6   5\n",
       "10   9   3\n",
       "11   2  10\n",
       "12   7   0\n",
       "13   8   0\n",
       "14   2   0\n",
       "15   7   8\n",
       "16  10   4\n",
       "17   8   1\n",
       "18   0   3\n",
       "19   3   6\n",
       "20   2   4\n",
       "21   1   4\n",
       "22   1   1\n",
       "23   8   1\n",
       "24   7   8"
      ]
     },
     "execution_count": 7,
     "metadata": {},
     "output_type": "execute_result"
    }
   ],
   "source": [
    "df = pd.DataFrame({\"x\" : x, \"y\" : y})\n",
    "\n",
    "print(df.shape)\n",
    "df"
   ]
  },
  {
   "cell_type": "markdown",
   "metadata": {},
   "source": [
    "### Trying Homemade K-Means Clustering Algorithm on Data"
   ]
  },
  {
   "cell_type": "code",
   "execution_count": 48,
   "metadata": {},
   "outputs": [
    {
     "name": "stdout",
     "output_type": "stream",
     "text": [
      "[1 0 2 1 2 2 0 0 2 2 0 2 0 0 1 2 0 0 1 1 1 1 1 0 2]\n"
     ]
    }
   ],
   "source": [
    "# Note here that n_iter=10 is the default\n",
    "# but has been expressly stated here for the reader's benefit.\n",
    "\n",
    "kmeans = KMeans(n_clusters=3, random_state=84)\n",
    "kmeans_fit = kmeans.fit(data)\n",
    "\n",
    "print(kmeans.clusters)"
   ]
  },
  {
   "cell_type": "code",
   "execution_count": 49,
   "metadata": {},
   "outputs": [
    {
     "data": {
      "image/png": "[encoded data removed]",
      "text/plain": [
       "<Figure size 432x288 with 1 Axes>"
      ]
     },
     "metadata": {
      "needs_background": "light"
     },
     "output_type": "display_data"
    }
   ],
   "source": [
    "colors = {1 : 'red', 0 : 'blue', 2 : \"orange\"}\n",
    "\n",
    "fig, ax = plt.subplots()\n",
    "ax.set_title('K-Means Clustering by Hand')\n",
    "\n",
    "grouped = df.groupby(kmeans.clusters)\n",
    "for key, group in grouped:\n",
    "    group.plot(ax = ax, kind = 'scatter', x = 'x',\n",
    "               y = 'y', label = key, color = colors[key])\n",
    "plt.show()"
   ]
  },
  {
   "cell_type": "markdown",
   "metadata": {},
   "source": [
    "### Comparison with Sci-Kit Learn K-Means Function"
   ]
  },
  {
   "cell_type": "code",
   "execution_count": 33,
   "metadata": {},
   "outputs": [
    {
     "data": {
      "text/plain": [
       "KMeans(algorithm='auto', copy_x=True, init='k-means++', max_iter=300,\n",
       "       n_clusters=3, n_init=10, n_jobs=None, precompute_distances='auto',\n",
       "       random_state=84, tol=0.0001, verbose=0)"
      ]
     },
     "execution_count": 33,
     "metadata": {},
     "output_type": "execute_result"
    }
   ],
   "source": [
    "skkmeans = SKKMeans(n_clusters=3, random_state=84)\n",
    "skkmeans"
   ]
  },
  {
   "cell_type": "markdown",
   "metadata": {},
   "source": [
    "So far the results are _**identical**_. "
   ]
  },
  {
   "cell_type": "code",
   "execution_count": 34,
   "metadata": {},
   "outputs": [
    {
     "name": "stdout",
     "output_type": "stream",
     "text": [
      "[0 1 2 0 2 2 1 1 2 2 1 2 1 1 0 2 1 1 0 0 0 0 0 1 2]\n"
     ]
    }
   ],
   "source": [
    "skkmeans = skkmeans.fit(data)\n",
    "print(skkmeans.labels_)"
   ]
  },
  {
   "cell_type": "code",
   "execution_count": 50,
   "metadata": {},
   "outputs": [
    {
     "data": {
      "image/png": "[encoded data removed]",
      "text/plain": [
       "<Figure size 432x288 with 1 Axes>"
      ]
     },
     "metadata": {
      "needs_background": "light"
     },
     "output_type": "display_data"
    }
   ],
   "source": [
    "colors = {0 : 'blue', 1 : 'red', 2 : \"orange\"}\n",
    "\n",
    "fig, ax = plt.subplots()\n",
    "ax.set_title('K-Means Clustering with Sci-Kit Learn')\n",
    "\n",
    "grouped = df.groupby(skkmeans.labels_)\n",
    "for key, group in grouped:\n",
    "    group.plot(ax = ax, kind = 'scatter', x = 'x',\n",
    "               y = 'y', label = key, color = colors[key])\n",
    "plt.show()"
   ]
  },
  {
   "cell_type": "markdown",
   "metadata": {},
   "source": [
    "#### Key Differences:\n",
    "\n",
    "__Note above__ in that the Sci-Kit Learn implementation of the algorithm that there is a *max_iter* and *tol* hyper-parameter. In a truly dynamic implementation of K-Means Clustering, these two work together to let the program know when to stop optimizing in its search for the center of each cluster. In this case, however, the homemade implementation is less dynamic, with an *n_iter* hyper-parameter taking the place of *max_iter* and *tol* not being used entirely. The effect of this is that, by tuning, *n_iter* the programmer can see each stage of the optimization process as demonstrated below."
   ]
  },
  {
   "cell_type": "code",
   "execution_count": 66,
   "metadata": {},
   "outputs": [
    {
     "name": "stdout",
     "output_type": "stream",
     "text": [
      "[0 0 2 1 2 1 0 1 2 1 0 2 0 0 0 2 0 0 1 1 1 1 1 0 2]\n",
      "[1 0 2 1 2 2 0 0 2 1 0 2 0 0 1 2 0 0 1 1 1 1 1 0 2]\n",
      "[1 0 2 1 2 2 0 0 2 2 0 2 0 0 1 2 0 0 1 1 1 1 1 0 2]\n",
      "[1 0 2 1 2 2 0 0 2 2 0 2 0 0 1 2 0 0 1 1 1 1 1 0 2]\n"
     ]
    }
   ],
   "source": [
    "algs = []\n",
    "for i in range(4):\n",
    "    alg = KMeans(n_clusters=3, n_iter=i, random_state=84)\n",
    "    algs.append(alg)\n",
    "    alg.fit(data)\n",
    "    print(alg.clusters)"
   ]
  },
  {
   "cell_type": "markdown",
   "metadata": {},
   "source": [
    "Note that the first three NumPy arrays containing the clusters change with each successive itteration; whereas, the fourth is identical to the third. Given that all successive itterations --including those beyond four--- would be equal to the third, this indicates that the algorith has converged.\n",
    "\n",
    "Let's visualize this below."
   ]
  },
  {
   "cell_type": "code",
   "execution_count": 67,
   "metadata": {},
   "outputs": [
    {
     "data": {
      "image/png": "[encoded data removed]",
      "text/plain": [
       "<Figure size 432x288 with 1 Axes>"
      ]
     },
     "metadata": {
      "needs_background": "light"
     },
     "output_type": "display_data"
    },
    {
     "data": {
      "image/png": "[encoded data removed]",
      "text/plain": [
       "<Figure size 432x288 with 1 Axes>"
      ]
     },
     "metadata": {
      "needs_background": "light"
     },
     "output_type": "display_data"
    },
    {
     "data": {
      "image/png": "[encoded data removed]",
      "text/plain": [
       "<Figure size 432x288 with 1 Axes>"
      ]
     },
     "metadata": {
      "needs_background": "light"
     },
     "output_type": "display_data"
    },
    {
     "data": {
      "image/png": "[encoded data removed]",
      "text/plain": [
       "<Figure size 432x288 with 1 Axes>"
      ]
     },
     "metadata": {
      "needs_background": "light"
     },
     "output_type": "display_data"
    }
   ],
   "source": [
    "colors = {0 : 'blue', 1 : 'red', 2 : \"orange\"}\n",
    "\n",
    "for alg in algs:\n",
    "    fig, ax = plt.subplots()\n",
    "    ax.set_title(f'n_iter={algs.index(alg)}')\n",
    "    \n",
    "    grouped = df.groupby(alg.clusters)\n",
    "    for key, group in grouped:\n",
    "        group.plot(ax = ax, kind = 'scatter', x = 'x',\n",
    "                   y = 'y', label = key, color = colors[key])\n",
    "        \n",
    "    plt.show()"
   ]
  },
  {
   "cell_type": "code",
   "execution_count": null,
   "metadata": {},
   "outputs": [],
   "source": []
  }
 ],
 "metadata": {
  "kernelspec": {
   "display_name": "Python 3",
   "language": "python",
   "name": "python3"
  },
  "language_info": {
   "codemirror_mode": {
    "name": "ipython",
    "version": 3
   },
   "file_extension": ".py",
   "mimetype": "text/x-python",
   "name": "python",
   "nbconvert_exporter": "python",
   "pygments_lexer": "ipython3",
   "version": "3.7.4"
  }
 },
 "nbformat": 4,
 "nbformat_minor": 4
}
