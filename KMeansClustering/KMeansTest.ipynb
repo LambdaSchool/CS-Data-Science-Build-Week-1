{
 "cells": [
  {
   "cell_type": "code",
   "execution_count": 1,
   "metadata": {},
   "outputs": [],
   "source": [
    "import pandas as pd\n",
    "import random\n",
    "import numpy as np\n",
    "import matplotlib.pyplot as plt\n",
    "import scipy\n",
    "from scipy.spatial.distance import cdist, euclidean\n",
    "from KMeans import KMeans\n",
    "from sklearn.cluster import KMeans as SKKMeans"
   ]
  },
  {
   "cell_type": "code",
   "execution_count": 2,
   "metadata": {},
   "outputs": [
    {
     "data": {
      "text/plain": [
       "array([[ 4,  0],\n",
       "       [ 7,  0],\n",
       "       [ 8, 10],\n",
       "       [ 5,  3],\n",
       "       [ 7,  7],\n",
       "       [ 8,  5],\n",
       "       [ 9,  2],\n",
       "       [ 8,  4],\n",
       "       [ 8,  7],\n",
       "       [ 6,  5],\n",
       "       [ 9,  3],\n",
       "       [ 2, 10],\n",
       "       [ 7,  0],\n",
       "       [ 8,  0],\n",
       "       [ 2,  0],\n",
       "       [ 7,  8],\n",
       "       [10,  4],\n",
       "       [ 8,  1],\n",
       "       [ 0,  3],\n",
       "       [ 3,  6],\n",
       "       [ 2,  4],\n",
       "       [ 1,  4],\n",
       "       [ 1,  1],\n",
       "       [ 8,  1],\n",
       "       [ 7,  8]])"
      ]
     },
     "execution_count": 2,
     "metadata": {},
     "output_type": "execute_result"
    }
   ],
   "source": [
    "random.seed(84)\n",
    "data = np.array([\n",
    "        [random.randint(0, 10), random.randint(0, 10)],\n",
    "        [random.randint(0, 10), random.randint(0, 10)],\n",
    "        [random.randint(0, 10), random.randint(0, 10)],\n",
    "        [random.randint(0, 10), random.randint(0, 10)],\n",
    "        [random.randint(0, 10), random.randint(0, 10)],\n",
    "        [random.randint(0, 10), random.randint(0, 10)],\n",
    "        [random.randint(0, 10), random.randint(0, 10)],\n",
    "        [random.randint(0, 10), random.randint(0, 10)],\n",
    "        [random.randint(0, 10), random.randint(0, 10)],\n",
    "        [random.randint(0, 10), random.randint(0, 10)],\n",
    "        [random.randint(0, 10), random.randint(0, 10)],\n",
    "        [random.randint(0, 10), random.randint(0, 10)],\n",
    "        [random.randint(0, 10), random.randint(0, 10)],\n",
    "        [random.randint(0, 10), random.randint(0, 10)],\n",
    "        [random.randint(0, 10), random.randint(0, 10)],\n",
    "        [random.randint(0, 10), random.randint(0, 10)],\n",
    "        [random.randint(0, 10), random.randint(0, 10)],\n",
    "        [random.randint(0, 10), random.randint(0, 10)],\n",
    "        [random.randint(0, 10), random.randint(0, 10)],\n",
    "        [random.randint(0, 10), random.randint(0, 10)],\n",
    "        [random.randint(0, 10), random.randint(0, 10)],\n",
    "        [random.randint(0, 10), random.randint(0, 10)],\n",
    "        [random.randint(0, 10), random.randint(0, 10)],\n",
    "        [random.randint(0, 10), random.randint(0, 10)],\n",
    "        [random.randint(0, 10), random.randint(0, 10)],\n",
    "])\n",
    "\n",
    "data"
   ]
  },
  {
   "cell_type": "code",
   "execution_count": 3,
   "metadata": {},
   "outputs": [
    {
     "data": {
      "text/plain": [
       "[4, 7, 8, 5, 7, 8, 9, 8, 8, 6, 9, 2, 7, 8, 2, 7, 10, 8, 0, 3, 2, 1, 1, 8, 7]"
      ]
     },
     "execution_count": 3,
     "metadata": {},
     "output_type": "execute_result"
    }
   ],
   "source": [
    "x = []\n",
    "y = []\n",
    "for i, j in data:\n",
    "    x.append(i)\n",
    "    y.append(j)\n",
    "    \n",
    "x"
   ]
  },
  {
   "cell_type": "code",
   "execution_count": 4,
   "metadata": {},
   "outputs": [
    {
     "data": {
      "text/plain": [
       "[0, 0, 10, 3, 7, 5, 2, 4, 7, 5, 3, 10, 0, 0, 0, 8, 4, 1, 3, 6, 4, 4, 1, 1, 8]"
      ]
     },
     "execution_count": 4,
     "metadata": {},
     "output_type": "execute_result"
    }
   ],
   "source": [
    "y"
   ]
  },
  {
   "cell_type": "code",
   "execution_count": 5,
   "metadata": {},
   "outputs": [
    {
     "data": {
      "image/png": "[encoded data removed]",
      "text/plain": [
       "<Figure size 432x288 with 1 Axes>"
      ]
     },
     "metadata": {
      "needs_background": "light"
     },
     "output_type": "display_data"
    }
   ],
   "source": [
    "plt.scatter(x, y)\n",
    "plt.show()"
   ]
  },
  {
   "cell_type": "code",
   "execution_count": 6,
   "metadata": {},
   "outputs": [
    {
     "name": "stdout",
     "output_type": "stream",
     "text": [
      "(25, 2)\n"
     ]
    },
    {
     "data": {
      "text/html": [
       "<div>\n",
       "<style scoped>\n",
       "    .dataframe tbody tr th:only-of-type {\n",
       "        vertical-align: middle;\n",
       "    }\n",
       "\n",
       "    .dataframe tbody tr th {\n",
       "        vertical-align: top;\n",
       "    }\n",
       "\n",
       "    .dataframe thead th {\n",
       "        text-align: right;\n",
       "    }\n",
       "</style>\n",
       "<table border=\"1\" class=\"dataframe\">\n",
       "  <thead>\n",
       "    <tr style=\"text-align: right;\">\n",
       "      <th></th>\n",
       "      <th>x</th>\n",
       "      <th>y</th>\n",
       "    </tr>\n",
       "  </thead>\n",
       "  <tbody>\n",
       "    <tr>\n",
       "      <td>0</td>\n",
       "      <td>4</td>\n",
       "      <td>0</td>\n",
       "    </tr>\n",
       "    <tr>\n",
       "      <td>1</td>\n",
       "      <td>7</td>\n",
       "      <td>0</td>\n",
       "    </tr>\n",
       "    <tr>\n",
       "      <td>2</td>\n",
       "      <td>8</td>\n",
       "      <td>10</td>\n",
       "    </tr>\n",
       "    <tr>\n",
       "      <td>3</td>\n",
       "      <td>5</td>\n",
       "      <td>3</td>\n",
       "    </tr>\n",
       "    <tr>\n",
       "      <td>4</td>\n",
       "      <td>7</td>\n",
       "      <td>7</td>\n",
       "    </tr>\n",
       "    <tr>\n",
       "      <td>5</td>\n",
       "      <td>8</td>\n",
       "      <td>5</td>\n",
       "    </tr>\n",
       "    <tr>\n",
       "      <td>6</td>\n",
       "      <td>9</td>\n",
       "      <td>2</td>\n",
       "    </tr>\n",
       "    <tr>\n",
       "      <td>7</td>\n",
       "      <td>8</td>\n",
       "      <td>4</td>\n",
       "    </tr>\n",
       "    <tr>\n",
       "      <td>8</td>\n",
       "      <td>8</td>\n",
       "      <td>7</td>\n",
       "    </tr>\n",
       "    <tr>\n",
       "      <td>9</td>\n",
       "      <td>6</td>\n",
       "      <td>5</td>\n",
       "    </tr>\n",
       "    <tr>\n",
       "      <td>10</td>\n",
       "      <td>9</td>\n",
       "      <td>3</td>\n",
       "    </tr>\n",
       "    <tr>\n",
       "      <td>11</td>\n",
       "      <td>2</td>\n",
       "      <td>10</td>\n",
       "    </tr>\n",
       "    <tr>\n",
       "      <td>12</td>\n",
       "      <td>7</td>\n",
       "      <td>0</td>\n",
       "    </tr>\n",
       "    <tr>\n",
       "      <td>13</td>\n",
       "      <td>8</td>\n",
       "      <td>0</td>\n",
       "    </tr>\n",
       "    <tr>\n",
       "      <td>14</td>\n",
       "      <td>2</td>\n",
       "      <td>0</td>\n",
       "    </tr>\n",
       "    <tr>\n",
       "      <td>15</td>\n",
       "      <td>7</td>\n",
       "      <td>8</td>\n",
       "    </tr>\n",
       "    <tr>\n",
       "      <td>16</td>\n",
       "      <td>10</td>\n",
       "      <td>4</td>\n",
       "    </tr>\n",
       "    <tr>\n",
       "      <td>17</td>\n",
       "      <td>8</td>\n",
       "      <td>1</td>\n",
       "    </tr>\n",
       "    <tr>\n",
       "      <td>18</td>\n",
       "      <td>0</td>\n",
       "      <td>3</td>\n",
       "    </tr>\n",
       "    <tr>\n",
       "      <td>19</td>\n",
       "      <td>3</td>\n",
       "      <td>6</td>\n",
       "    </tr>\n",
       "    <tr>\n",
       "      <td>20</td>\n",
       "      <td>2</td>\n",
       "      <td>4</td>\n",
       "    </tr>\n",
       "    <tr>\n",
       "      <td>21</td>\n",
       "      <td>1</td>\n",
       "      <td>4</td>\n",
       "    </tr>\n",
       "    <tr>\n",
       "      <td>22</td>\n",
       "      <td>1</td>\n",
       "      <td>1</td>\n",
       "    </tr>\n",
       "    <tr>\n",
       "      <td>23</td>\n",
       "      <td>8</td>\n",
       "      <td>1</td>\n",
       "    </tr>\n",
       "    <tr>\n",
       "      <td>24</td>\n",
       "      <td>7</td>\n",
       "      <td>8</td>\n",
       "    </tr>\n",
       "  </tbody>\n",
       "</table>\n",
       "</div>"
      ],
      "text/plain": [
       "     x   y\n",
       "0    4   0\n",
       "1    7   0\n",
       "2    8  10\n",
       "3    5   3\n",
       "4    7   7\n",
       "5    8   5\n",
       "6    9   2\n",
       "7    8   4\n",
       "8    8   7\n",
       "9    6   5\n",
       "10   9   3\n",
       "11   2  10\n",
       "12   7   0\n",
       "13   8   0\n",
       "14   2   0\n",
       "15   7   8\n",
       "16  10   4\n",
       "17   8   1\n",
       "18   0   3\n",
       "19   3   6\n",
       "20   2   4\n",
       "21   1   4\n",
       "22   1   1\n",
       "23   8   1\n",
       "24   7   8"
      ]
     },
     "execution_count": 6,
     "metadata": {},
     "output_type": "execute_result"
    }
   ],
   "source": [
    "df = pd.DataFrame({\"x\" : x, \"y\" : y})\n",
    "\n",
    "print(df.shape)\n",
    "df"
   ]
  },
  {
   "cell_type": "code",
   "execution_count": 10,
   "metadata": {},
   "outputs": [
    {
     "data": {
      "text/plain": [
       "array([1, 0, 0, 0, 0, 0, 0, 0, 0, 0, 0, 1, 0, 0, 1, 0, 0, 0, 1, 1, 1, 1,\n",
       "       1, 0, 0])"
      ]
     },
     "execution_count": 10,
     "metadata": {},
     "output_type": "execute_result"
    }
   ],
   "source": [
    "kmeans = KMeans(n_clusters=2, n_iter=10)\n",
    "kmeans_dict = kmeans.fit(data)\n",
    "\n",
    "kmeans.clusters"
   ]
  },
  {
   "cell_type": "code",
   "execution_count": 11,
   "metadata": {},
   "outputs": [
    {
     "data": {
      "image/png": "[encoded data removed]",
      "text/plain": [
       "<Figure size 432x288 with 1 Axes>"
      ]
     },
     "metadata": {
      "needs_background": "light"
     },
     "output_type": "display_data"
    }
   ],
   "source": [
    "colors = {1 : 'red', 0 : 'blue'}\n",
    "\n",
    "fig, ax = plt.subplots()\n",
    "ax.set_title('K-Means Clustering by Hand')\n",
    "\n",
    "grouped = df.groupby(np.array(kmeans.clusters))\n",
    "for key, group in grouped:\n",
    "    group.plot(ax = ax, kind = 'scatter', x = 'x',\n",
    "               y = 'y', label = key, color = colors[key])\n",
    "plt.show()"
   ]
  },
  {
   "cell_type": "code",
   "execution_count": 12,
   "metadata": {},
   "outputs": [
    {
     "data": {
      "text/plain": [
       "KMeans(algorithm='auto', copy_x=True, init='k-means++', max_iter=300,\n",
       "       n_clusters=2, n_init=10, n_jobs=None, precompute_distances='auto',\n",
       "       random_state=None, tol=0.0001, verbose=0)"
      ]
     },
     "execution_count": 12,
     "metadata": {},
     "output_type": "execute_result"
    }
   ],
   "source": [
    "skkmeans = SKKMeans(n_clusters=2)\n",
    "skkmeans"
   ]
  },
  {
   "cell_type": "code",
   "execution_count": 13,
   "metadata": {},
   "outputs": [
    {
     "name": "stdout",
     "output_type": "stream",
     "text": [
      "[1 0 0 0 0 0 0 0 0 0 0 1 0 0 1 0 0 0 1 1 1 1 1 0 0]\n"
     ]
    }
   ],
   "source": [
    "skkmeans = skkmeans.fit(data)\n",
    "print(skkmeans.labels_)"
   ]
  },
  {
   "cell_type": "code",
   "execution_count": 15,
   "metadata": {},
   "outputs": [
    {
     "data": {
      "image/png": "[encoded data removed]",
      "text/plain": [
       "<Figure size 432x288 with 1 Axes>"
      ]
     },
     "metadata": {
      "needs_background": "light"
     },
     "output_type": "display_data"
    }
   ],
   "source": [
    "colors = {0 : 'blue', 1 : 'red'}\n",
    "\n",
    "fig, ax = plt.subplots()\n",
    "ax.set_title('K-Means Clustering with SciKit Learn')\n",
    "\n",
    "grouped = df.groupby(skkmeans.labels_)\n",
    "for key, group in grouped:\n",
    "    group.plot(ax = ax, kind = 'scatter', x = 'x',\n",
    "               y = 'y', label = key, color = colors[key])\n",
    "plt.show()"
   ]
  },
  {
   "cell_type": "code",
   "execution_count": null,
   "metadata": {},
   "outputs": [],
   "source": []
  }
 ],
 "metadata": {
  "kernelspec": {
   "display_name": "Python 3",
   "language": "python",
   "name": "python3"
  },
  "language_info": {
   "codemirror_mode": {
    "name": "ipython",
    "version": 3
   },
   "file_extension": ".py",
   "mimetype": "text/x-python",
   "name": "python",
   "nbconvert_exporter": "python",
   "pygments_lexer": "ipython3",
   "version": "3.7.4"
  }
 },
 "nbformat": 4,
 "nbformat_minor": 4
}
